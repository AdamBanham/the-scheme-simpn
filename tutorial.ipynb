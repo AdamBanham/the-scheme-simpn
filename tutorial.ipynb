{
 "cells": [
  {
   "cell_type": "code",
   "execution_count": 1,
   "id": "553db0cb",
   "metadata": {},
   "outputs": [],
   "source": [
    "from simpn.simulator import SimProblem, SimToken\n",
    "\n",
    "shop = SimProblem()"
   ]
  },
  {
   "cell_type": "code",
   "execution_count": 2,
   "id": "6191374d",
   "metadata": {},
   "outputs": [],
   "source": [
    "# state variables of the system\n",
    "customers = shop.add_var(\"customers\")\n",
    "resources = shop.add_var(\"resources\")"
   ]
  },
  {
   "cell_type": "code",
   "execution_count": 3,
   "id": "35532133",
   "metadata": {},
   "outputs": [],
   "source": [
    "# add values to pools of the variables\n",
    "resources.put(\"cassier\")\n",
    "customers.put(\"c1\")\n",
    "customers.put(\"c2\")\n",
    "customers.put(\"c3\")"
   ]
  },
  {
   "cell_type": "code",
   "execution_count": 4,
   "id": "3573a8b1",
   "metadata": {},
   "outputs": [
    {
     "data": {
      "text/plain": [
       "process"
      ]
     },
     "execution_count": 4,
     "metadata": {},
     "output_type": "execute_result"
    }
   ],
   "source": [
    "# add simulation events\n",
    "def process(customer, resource):\n",
    "    return [SimToken(resource, delay=0.75)]\n",
    "\n",
    "shop.add_event([customers, resources], [resources], process)"
   ]
  },
  {
   "cell_type": "code",
   "execution_count": 5,
   "id": "4fd3fc29",
   "metadata": {},
   "outputs": [
    {
     "name": "stdout",
     "output_type": "stream",
     "text": [
      "process{customers: c1, resources: cassier}@t=0\n",
      "process{customers: c2, resources: cassier}@t=0.75\n",
      "process{customers: c3, resources: cassier}@t=1.5\n"
     ]
    }
   ],
   "source": [
    "# now we can simulate the system\n",
    "from simpn.reporters import SimpleReporter\n",
    "\n",
    "shop.simulate(10, SimpleReporter())"
   ]
  },
  {
   "cell_type": "code",
   "execution_count": 6,
   "id": "c5483c5d",
   "metadata": {},
   "outputs": [
    {
     "ename": "KeyboardInterrupt",
     "evalue": "",
     "output_type": "error",
     "traceback": [
      "\u001b[31m---------------------------------------------------------------------------\u001b[39m",
      "\u001b[31mKeyboardInterrupt\u001b[39m                         Traceback (most recent call last)",
      "\u001b[36mCell\u001b[39m\u001b[36m \u001b[39m\u001b[32mIn[6]\u001b[39m\u001b[32m, line 4\u001b[39m\n\u001b[32m      1\u001b[39m \u001b[38;5;28;01mfrom\u001b[39;00m\u001b[38;5;250m \u001b[39m\u001b[34;01msimpn\u001b[39;00m\u001b[34;01m.\u001b[39;00m\u001b[34;01mvisualisation\u001b[39;00m\u001b[38;5;250m \u001b[39m\u001b[38;5;28;01mimport\u001b[39;00m Visualisation\n\u001b[32m      3\u001b[39m v = Visualisation(shop)\n\u001b[32m----> \u001b[39m\u001b[32m4\u001b[39m \u001b[43mv\u001b[49m\u001b[43m.\u001b[49m\u001b[43mshow\u001b[49m\u001b[43m(\u001b[49m\u001b[43m)\u001b[49m\n",
      "\u001b[36mFile \u001b[39m\u001b[32mc:\\Users\\adam\\.virtualenvs\\adam-TJr2Lmd6\\Lib\\site-packages\\simpn\\visualisation.py:444\u001b[39m, in \u001b[36mVisualisation.show\u001b[39m\u001b[34m(self)\u001b[39m\n\u001b[32m    442\u001b[39m     \u001b[38;5;28mself\u001b[39m.__handle_event(event)\n\u001b[32m    443\u001b[39m \u001b[38;5;28;01mtry\u001b[39;00m:\n\u001b[32m--> \u001b[39m\u001b[32m444\u001b[39m     \u001b[38;5;28;43mself\u001b[39;49m\u001b[43m.\u001b[49m\u001b[43m__draw\u001b[49m\u001b[43m(\u001b[49m\u001b[43m)\u001b[49m\n\u001b[32m    445\u001b[39m \u001b[38;5;28;01mexcept\u001b[39;00m \u001b[38;5;167;01mException\u001b[39;00m:\n\u001b[32m    446\u001b[39m     \u001b[38;5;28mprint\u001b[39m(\u001b[33m\"\u001b[39m\u001b[33mError while drawing the visualisation.\u001b[39m\u001b[33m\"\u001b[39m)\n",
      "\u001b[36mFile \u001b[39m\u001b[32mc:\\Users\\adam\\.virtualenvs\\adam-TJr2Lmd6\\Lib\\site-packages\\simpn\\visualisation.py:311\u001b[39m, in \u001b[36mVisualisation.__draw\u001b[39m\u001b[34m(self)\u001b[39m\n\u001b[32m    309\u001b[39m \u001b[38;5;28mself\u001b[39m.__screen.fill(TUE_GREY)\n\u001b[32m    310\u001b[39m \u001b[38;5;28;01mfor\u001b[39;00m shape \u001b[38;5;129;01min\u001b[39;00m \u001b[38;5;28mself\u001b[39m._nodes.values():\n\u001b[32m--> \u001b[39m\u001b[32m311\u001b[39m     \u001b[43mshape\u001b[49m\u001b[43m.\u001b[49m\u001b[43mdraw\u001b[49m\u001b[43m(\u001b[49m\u001b[38;5;28;43mself\u001b[39;49m\u001b[43m.\u001b[49m\u001b[43m__screen\u001b[49m\u001b[43m)\u001b[49m\n\u001b[32m    312\u001b[39m \u001b[38;5;28;01mfor\u001b[39;00m shape \u001b[38;5;129;01min\u001b[39;00m \u001b[38;5;28mself\u001b[39m._edges:\n\u001b[32m    313\u001b[39m     shape.draw(\u001b[38;5;28mself\u001b[39m.__screen)\n",
      "\u001b[36mFile \u001b[39m\u001b[32mc:\\Users\\adam\\.virtualenvs\\adam-TJr2Lmd6\\Lib\\site-packages\\simpn\\visualisation.py:171\u001b[39m, in \u001b[36mPlaceViz.draw\u001b[39m\u001b[34m(self, screen)\u001b[39m\n\u001b[32m    169\u001b[39m pygame.draw.circle(screen, TUE_LIGHTBLUE, (\u001b[38;5;28mself\u001b[39m._pos[\u001b[32m0\u001b[39m], \u001b[38;5;28mself\u001b[39m._pos[\u001b[32m1\u001b[39m]), \u001b[38;5;28mself\u001b[39m._half_height)\n\u001b[32m    170\u001b[39m pygame.draw.circle(screen, TUE_BLUE, (\u001b[38;5;28mself\u001b[39m._pos[\u001b[32m0\u001b[39m], \u001b[38;5;28mself\u001b[39m._pos[\u001b[32m1\u001b[39m]), \u001b[38;5;28mself\u001b[39m._half_height, LINE_WIDTH)    \n\u001b[32m--> \u001b[39m\u001b[32m171\u001b[39m font = \u001b[43mpygame\u001b[49m\u001b[43m.\u001b[49m\u001b[43mfont\u001b[49m\u001b[43m.\u001b[49m\u001b[43mSysFont\u001b[49m\u001b[43m(\u001b[49m\u001b[33;43m'\u001b[39;49m\u001b[33;43mCalibri\u001b[39;49m\u001b[33;43m'\u001b[39;49m\u001b[43m,\u001b[49m\u001b[43m \u001b[49m\u001b[43mTEXT_SIZE\u001b[49m\u001b[43m)\u001b[49m\n\u001b[32m    172\u001b[39m bold_font = pygame.font.SysFont(\u001b[33m'\u001b[39m\u001b[33mCalibri\u001b[39m\u001b[33m'\u001b[39m, TEXT_SIZE, bold=\u001b[38;5;28;01mTrue\u001b[39;00m)\n\u001b[32m    174\u001b[39m \u001b[38;5;66;03m# draw label\u001b[39;00m\n",
      "\u001b[36mFile \u001b[39m\u001b[32mc:\\Users\\adam\\.virtualenvs\\adam-TJr2Lmd6\\Lib\\site-packages\\pygame\\sysfont.py:460\u001b[39m, in \u001b[36mSysFont\u001b[39m\u001b[34m(name, size, bold, italic, constructor)\u001b[39m\n\u001b[32m    457\u001b[39m \u001b[38;5;28;01mif\u001b[39;00m italic \u001b[38;5;129;01mand\u001b[39;00m \u001b[38;5;129;01mnot\u001b[39;00m gotitalic:\n\u001b[32m    458\u001b[39m     set_italic = \u001b[38;5;28;01mTrue\u001b[39;00m\n\u001b[32m--> \u001b[39m\u001b[32m460\u001b[39m \u001b[38;5;28;01mreturn\u001b[39;00m \u001b[43mconstructor\u001b[49m\u001b[43m(\u001b[49m\u001b[43mfontname\u001b[49m\u001b[43m,\u001b[49m\u001b[43m \u001b[49m\u001b[43msize\u001b[49m\u001b[43m,\u001b[49m\u001b[43m \u001b[49m\u001b[43mset_bold\u001b[49m\u001b[43m,\u001b[49m\u001b[43m \u001b[49m\u001b[43mset_italic\u001b[49m\u001b[43m)\u001b[49m\n",
      "\u001b[36mFile \u001b[39m\u001b[32mc:\\Users\\adam\\.virtualenvs\\adam-TJr2Lmd6\\Lib\\site-packages\\pygame\\sysfont.py:378\u001b[39m, in \u001b[36mfont_constructor\u001b[39m\u001b[34m(fontpath, size, bold, italic)\u001b[39m\n\u001b[32m    366\u001b[39m \u001b[38;5;28;01mdef\u001b[39;00m\u001b[38;5;250m \u001b[39m\u001b[34mfont_constructor\u001b[39m(fontpath, size, bold, italic):\n\u001b[32m    367\u001b[39m \u001b[38;5;250m    \u001b[39m\u001b[33;03m\"\"\"\u001b[39;00m\n\u001b[32m    368\u001b[39m \u001b[33;03m    pygame.font specific declarations\u001b[39;00m\n\u001b[32m    369\u001b[39m \n\u001b[32m   (...)\u001b[39m\u001b[32m    375\u001b[39m \u001b[33;03m    :return: A font.Font object.\u001b[39;00m\n\u001b[32m    376\u001b[39m \u001b[33;03m    \"\"\"\u001b[39;00m\n\u001b[32m--> \u001b[39m\u001b[32m378\u001b[39m     font = \u001b[43mFont\u001b[49m\u001b[43m(\u001b[49m\u001b[43mfontpath\u001b[49m\u001b[43m,\u001b[49m\u001b[43m \u001b[49m\u001b[43msize\u001b[49m\u001b[43m)\u001b[49m\n\u001b[32m    379\u001b[39m     \u001b[38;5;28;01mif\u001b[39;00m bold:\n\u001b[32m    380\u001b[39m         font.set_bold(\u001b[38;5;28;01mTrue\u001b[39;00m)\n",
      "\u001b[31mKeyboardInterrupt\u001b[39m: "
     ]
    }
   ],
   "source": [
    "from simpn.visualisation import Visualisation\n",
    "\n",
    "v = Visualisation(shop)\n",
    "v.show()"
   ]
  },
  {
   "cell_type": "code",
   "execution_count": null,
   "id": "97ef05f4",
   "metadata": {},
   "outputs": [],
   "source": []
  }
 ],
 "metadata": {
  "kernelspec": {
   "display_name": "adam-TJr2Lmd6",
   "language": "python",
   "name": "python3"
  },
  "language_info": {
   "codemirror_mode": {
    "name": "ipython",
    "version": 3
   },
   "file_extension": ".py",
   "mimetype": "text/x-python",
   "name": "python",
   "nbconvert_exporter": "python",
   "pygments_lexer": "ipython3",
   "version": "3.11.5"
  }
 },
 "nbformat": 4,
 "nbformat_minor": 5
}
